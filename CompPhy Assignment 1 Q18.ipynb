{
 "cells": [
  {
   "cell_type": "code",
   "execution_count": 2,
   "id": "6e36cf4a",
   "metadata": {},
   "outputs": [
    {
     "name": "stdout",
     "output_type": "stream",
     "text": [
      "Dominant Eigenvalue: 3.4103299541074583\n",
      "Eigenvector:\n",
      "[ 0.52411699 -0.70666134  0.47532212]\n"
     ]
    }
   ],
   "source": [
    "import numpy as np\n",
    "\n",
    "# Define the matrix A\n",
    "A = np.array([[2, -1, 0],\n",
    "              [-1, 2, -1],\n",
    "              [0, -1, 2]])\n",
    "\n",
    "# Function to apply Power Method\n",
    "def power_method(matrix, tolerance=1e-2, max_iterations=1000):\n",
    "    # Initialize a random vector\n",
    "    x = np.random.rand(matrix.shape[0])\n",
    "\n",
    "    # Normalize the initial vector\n",
    "    x = x / np.linalg.norm(x)\n",
    "\n",
    "    # Initialize the eigenvalue estimate\n",
    "    eigenvalue_old = 0.0\n",
    "\n",
    "    # Iteratively apply power method\n",
    "    for i in range(max_iterations):\n",
    "        # Compute the matrix-vector product\n",
    "        Ax = np.dot(matrix, x)\n",
    "\n",
    "        # Update the eigenvector approximation\n",
    "        x = Ax / np.linalg.norm(Ax)\n",
    "\n",
    "        # Compute the eigenvalue estimate\n",
    "        eigenvalue = np.dot(x, Ax)\n",
    "\n",
    "        # Check for convergence\n",
    "        if np.abs(eigenvalue - eigenvalue_old) < tolerance:\n",
    "            break\n",
    "\n",
    "        # Update the eigenvalue estimate for the next iteration\n",
    "        eigenvalue_old = eigenvalue\n",
    "\n",
    "    return eigenvalue, x\n",
    "\n",
    "# Apply Power Method\n",
    "dominant_eigenvalue, dominant_eigenvector = power_method(A)\n",
    "\n",
    "# Print the results\n",
    "print(\"Dominant Eigenvalue:\", dominant_eigenvalue)\n",
    "print(\"Eigenvector:\")\n",
    "print(dominant_eigenvector)\n"
   ]
  },
  {
   "cell_type": "code",
   "execution_count": null,
   "id": "b83ddcd6",
   "metadata": {},
   "outputs": [],
   "source": []
  }
 ],
 "metadata": {
  "kernelspec": {
   "display_name": "Python 3 (ipykernel)",
   "language": "python",
   "name": "python3"
  },
  "language_info": {
   "codemirror_mode": {
    "name": "ipython",
    "version": 3
   },
   "file_extension": ".py",
   "mimetype": "text/x-python",
   "name": "python",
   "nbconvert_exporter": "python",
   "pygments_lexer": "ipython3",
   "version": "3.11.5"
  }
 },
 "nbformat": 4,
 "nbformat_minor": 5
}
