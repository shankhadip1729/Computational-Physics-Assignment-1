{
 "cells": [
  {
   "cell_type": "code",
   "execution_count": 3,
   "id": "fa2cbcc5",
   "metadata": {},
   "outputs": [
    {
     "name": "stdout",
     "output_type": "stream",
     "text": [
      "a) x = [ 0.03508772 -0.23684211  0.65789474]\n",
      "b) x = [0.99578947 0.95789474 0.79157895]\n",
      "c) x = [-0.79764706  2.79529412 -0.25882353 -2.25176471]\n",
      "d) x = [ 0.78663239 -1.00257069  1.86632391  1.9125964   1.98971722]\n"
     ]
    }
   ],
   "source": [
    "import numpy as np\n",
    "def a(x):\n",
    "    return(np.array(x))\n",
    "#System 1\n",
    "A1 = a([a([3,-1,1]),a([3,6,2]),a([3,3,7])])\n",
    "b1 = a([1,0,4])\n",
    "print(\"a) x =\", np.linalg.solve(A1,b1))\n",
    "#System 2\n",
    "A2 = a([a([10,-1,0]),a([-1,10,-2]),a([0,-2,10])])\n",
    "b2 = a([9,7,6])\n",
    "print(\"b) x =\", np.linalg.solve(A2,b2))\n",
    "#System 3\n",
    "A3 = a([a([10,5,0,0]),a([5,10,-4,0]),a([0,-4,8,-1]),a([0,0,-1,5])])\n",
    "b3 = a([6,25,-11,-11])\n",
    "print(\"c) x =\", np.linalg.solve(A3,b3))\n",
    "#System 4\n",
    "A4 =  a([a([4,1,1,0,1]),a([-1,-3,1,1,0]),a([2,1,5,-1,-1]),a([-1,-1,-1,4,0]),a([0,2,-1,1,4])])\n",
    "b4 = a([6,6,6,6,6])\n",
    "print(\"d) x =\", np.linalg.solve(A4,b4))"
   ]
  },
  {
   "cell_type": "code",
   "execution_count": null,
   "id": "3c4b9c06",
   "metadata": {},
   "outputs": [],
   "source": []
  }
 ],
 "metadata": {
  "kernelspec": {
   "display_name": "Python 3 (ipykernel)",
   "language": "python",
   "name": "python3"
  },
  "language_info": {
   "codemirror_mode": {
    "name": "ipython",
    "version": 3
   },
   "file_extension": ".py",
   "mimetype": "text/x-python",
   "name": "python",
   "nbconvert_exporter": "python",
   "pygments_lexer": "ipython3",
   "version": "3.11.5"
  }
 },
 "nbformat": 4,
 "nbformat_minor": 5
}
