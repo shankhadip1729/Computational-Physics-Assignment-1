{
 "cells": [
  {
   "cell_type": "code",
   "execution_count": 2,
   "id": "ed687c8f",
   "metadata": {},
   "outputs": [
    {
     "name": "stdout",
     "output_type": "stream",
     "text": [
      "Eigenvalues using QR decomposition:\n",
      "[9. 4.]\n",
      "\n",
      "Eigenvalues using numpy.linalg.eigh:\n",
      "[4. 9.]\n",
      "\n",
      "The eigenvalues match.\n"
     ]
    }
   ],
   "source": [
    "import numpy as np\n",
    "\n",
    "# Define the matrix A\n",
    "A = np.array([[5, -2],\n",
    "              [-2, 8]])\n",
    "\n",
    "# Perform QR decomposition\n",
    "Q, R = np.linalg.qr(A)\n",
    "\n",
    "# Calculate eigenvalues using QR decomposition\n",
    "eigenvalues_QR = np.linalg.eigvals(np.dot(R, Q))\n",
    "\n",
    "# Calculate eigenvalues using numpy.linalg.eigh\n",
    "eigenvalues_eigh = np.linalg.eigh(A)[0]\n",
    "\n",
    "# Print the eigenvalues calculated from QR decomposition\n",
    "print(\"Eigenvalues using QR decomposition:\")\n",
    "print(eigenvalues_QR)\n",
    "\n",
    "# Print the eigenvalues calculated using numpy.linalg.eigh\n",
    "print(\"\\nEigenvalues using numpy.linalg.eigh:\")\n",
    "print(eigenvalues_eigh)\n",
    "\n",
    "# Compare the results\n",
    "if np.allclose(sorted(eigenvalues_QR), sorted(eigenvalues_eigh)):\n",
    "    print(\"\\nThe eigenvalues match.\")\n",
    "else:\n",
    "    print(\"\\nThe eigenvalues do not match.\")\n"
   ]
  },
  {
   "cell_type": "code",
   "execution_count": null,
   "id": "4bf99475",
   "metadata": {},
   "outputs": [],
   "source": []
  }
 ],
 "metadata": {
  "kernelspec": {
   "display_name": "Python 3 (ipykernel)",
   "language": "python",
   "name": "python3"
  },
  "language_info": {
   "codemirror_mode": {
    "name": "ipython",
    "version": 3
   },
   "file_extension": ".py",
   "mimetype": "text/x-python",
   "name": "python",
   "nbconvert_exporter": "python",
   "pygments_lexer": "ipython3",
   "version": "3.11.5"
  }
 },
 "nbformat": 4,
 "nbformat_minor": 5
}
